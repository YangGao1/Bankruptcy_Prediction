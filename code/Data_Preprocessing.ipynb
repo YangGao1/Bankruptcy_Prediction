{
 "cells": [
  {
   "cell_type": "code",
   "execution_count": 11,
   "metadata": {},
   "outputs": [],
   "source": [
    "import pandas as pd\n",
    "import numpy as np\n",
    "random_state=42\n",
    "import warnings\n",
    "warnings.filterwarnings(\"ignore\")\n",
    "from sklearn.model_selection import train_test_split\n",
    "from sklearn import metrics\n",
    "import matplotlib.pyplot as plt"
   ]
  },
  {
   "cell_type": "code",
   "execution_count": 10,
   "metadata": {},
   "outputs": [],
   "source": [
    "#feature to use\n",
    "'''\n",
    "Market Capitalization\n",
    "Total Revenues\n",
    "Total Assets\n",
    "Earnings per Share\n",
    "Net Operating Cash Flows\n",
    "Total Debt\n",
    "EBIT Margin\n",
    "'''\n",
    "sample_columns=['csho','prcc_f','revt','at','epsfi','oancf','dt','ebit','stalt','costat','spcseccd']\n",
    "columns_selected=['csho','prcc_f','revt','at','epsfi','oancf','dt','ebit']\n",
    "preditor=['stalt']"
   ]
  },
  {
   "cell_type": "code",
   "execution_count": 7,
   "metadata": {},
   "outputs": [],
   "source": [
    "def sample_data(fiscal=None,freq=0.01,columns=sample_columns):\n",
    "    #filename:healthy or bankruptcy\n",
    "    df1=pd.read_csv('../data/accouting_data/healthy_accouting_stalt.csv')\n",
    "    df2=pd.read_csv('../data/accouting_data/bankruptcy_accouting_stalt.csv')\n",
    "    df2['stalt']=1.0 #label bankruptcy\n",
    "    df1['stalt']=0.0 # label healthy\n",
    "    df1=df1[columns].dropna()\n",
    "    df2=df2[columns].dropna() # naive ways of handling nan data\n",
    "    df1=df1[df1['costat']=='A'] #get all active companies data\n",
    "    sample_df=df1.groupby('spcseccd').apply(lambda x: x.sample(frac=freq,random_state=random_state))\n",
    "    # drop spcseccd columns in order to reset index\n",
    "    sample_df.drop(columns='spcseccd',inplace=True)\n",
    "    sample_df.reset_index(level=0,inplace=True)\n",
    "    #statified sample\n",
    "    #cols = sample_df.columns.tolist()\n",
    "    #cols=cols[-1:] + cols[:-1]\n",
    "    sample_df=sample_df[columns]\n",
    "    df_final=sample_df.append(df2).reset_index().drop(columns='index')\n",
    "    return df_final.copy()\n",
    "        \n",
    "        "
   ]
  },
  {
   "cell_type": "code",
   "execution_count": 13,
   "metadata": {},
   "outputs": [],
   "source": [
    "def make_test_train(df,columns=columns_selected,pred=preditor,random_state=random_state):\n",
    "    #handle with nan data\n",
    "    X=df[columns_selected]\n",
    "    y=df[pred]\n",
    "    X_train,X_test,y_train,y_test=train_test_split(X,y,test_size=0.3,random_state=random_state,stratify=y)\n",
    "    \n",
    "    return X_train,X_test,y_train,y_test\n",
    "    \n",
    "    #select feature for ML training"
   ]
  },
  {
   "cell_type": "code",
   "execution_count": 1,
   "metadata": {},
   "outputs": [],
   "source": [
    "def calc_metrics(model,X_test,y_test,threshold=0.5):\n",
    "    \"\"\"\n",
    "    Arguments:\n",
    "    Model: - trained model such as Logistic Regression\n",
    "    X_test - np.array of test set\n",
    "    y_test -binary label in range {0,1} \n",
    "    \"\"\"\n",
    "    if model is None:\n",
    "        return 0.0,0.0,0.0\n",
    "    \n",
    "    predicted_prob=model.predict_proba(X_test)[:,1]\n",
    "    predicted_binary=(predicted_prob>threshold).astype(int)\n",
    "    \n",
    "    fpr,tpr,_=metrics.roc_curve(y_test,predicted_prob,pos_label=1)\n",
    "    \n",
    "    #compute AUC from prediction score\n",
    "    roc_auc=metrics.auc(fpr,tpr)\n",
    "    ks=np.max(tpr-fpr)\n",
    "    \n",
    "    #accuracy score\n",
    "    accuracy_score=metrics.accuracy_score(y_test,predicted_binary)\n",
    "        \n",
    "    try:\n",
    "        plt.title('Logistic Regression ROC Curve')\n",
    "        plt.plot(fpr,tpr,'b',label='AUC=%0.2f' % roc_auc)\n",
    "        plt.legend(loc='lower right')\n",
    "        plt.plot([0,1],[0,1],'r--')\n",
    "        plt.xlabel('False Positive rate')\n",
    "        plt.ylabel('True Positive rate')\n",
    "        plt.savefig('../picture/ROC_curve_1.png')\n",
    "        plt.show()\n",
    "    except:\n",
    "        pass\n",
    "    \n",
    "    return roc_auc,accuracy_score,ks"
   ]
  },
  {
   "cell_type": "code",
   "execution_count": null,
   "metadata": {},
   "outputs": [],
   "source": []
  }
 ],
 "metadata": {
  "kernelspec": {
   "display_name": "Python 3",
   "language": "python",
   "name": "python3"
  },
  "language_info": {
   "codemirror_mode": {
    "name": "ipython",
    "version": 3
   },
   "file_extension": ".py",
   "mimetype": "text/x-python",
   "name": "python",
   "nbconvert_exporter": "python",
   "pygments_lexer": "ipython3",
   "version": "3.7.3"
  }
 },
 "nbformat": 4,
 "nbformat_minor": 2
}
