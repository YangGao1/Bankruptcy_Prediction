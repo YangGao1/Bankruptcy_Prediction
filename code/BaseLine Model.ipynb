{
 "cells": [
  {
   "cell_type": "code",
   "execution_count": 1,
   "metadata": {},
   "outputs": [],
   "source": [
    "import pandas as pd\n",
    "import numpy as np"
   ]
  },
  {
   "cell_type": "code",
   "execution_count": 2,
   "metadata": {},
   "outputs": [],
   "source": [
    "from sklearn import metrics\n",
    "import matplotlib.pyplot as plt\n",
    "from sklearn.metrics import roc_auc_score"
   ]
  },
  {
   "cell_type": "code",
   "execution_count": 26,
   "metadata": {},
   "outputs": [],
   "source": [
    "df_bankruptcy=pd.read_csv('../data/accouting_data/bankruptcy_accouting_stalt.csv')\n",
    "df_healthy=pd.read_csv('../data/accouting_data/healthy_accouting_stalt.csv')\n",
    "df_healthy=df_healthy[df_healthy['costat']=='A']"
   ]
  },
  {
   "cell_type": "code",
   "execution_count": 27,
   "metadata": {},
   "outputs": [
    {
     "data": {
      "text/plain": [
       "Index(['gvkey', 'datadate', 'fyear', 'indfmt', 'consol', 'popsrc', 'datafmt',\n",
       "       'tic', 'curcd', 'stalt', 'act', 'amgw', 'at', 'capx', 'ceqt', 'ch',\n",
       "       'csho', 'cshpri', 'dt', 'dvp', 'dvt', 'ebit', 'emp', 'epsfi', 'fincf',\n",
       "       'gdwl', 'gp', 'intan', 'ivncf', 'lct', 'lt', 'ni', 'oancf', 'oibdp',\n",
       "       'pll', 'pvcl', 'revt', 'teq', 'tie', 'txtubtxtr', 'udvp', 'unwcc',\n",
       "       'ustdnc', 'wcap', 'wdp', 'costat', 'fic', 'prcc_f', 'au', 'dlrsn',\n",
       "       'incorp', 'spcseccd'],\n",
       "      dtype='object')"
      ]
     },
     "execution_count": 27,
     "metadata": {},
     "output_type": "execute_result"
    }
   ],
   "source": [
    "df_healthy.columns"
   ]
  },
  {
   "cell_type": "code",
   "execution_count": 16,
   "metadata": {},
   "outputs": [],
   "source": [
    "df_temp=df_healthy[(df_healthy['fyear']==2019) | (df_healthy['fyear']==2018) |(df_healthy['fyear']==2017)] #&  df_healthy['prcc_f'].notnull()]"
   ]
  },
  {
   "cell_type": "code",
   "execution_count": 17,
   "metadata": {},
   "outputs": [],
   "source": [
    "df_temp1=df_healthy['gvkey'][df_healthy['fyear']==2019].unique()\n",
    "df_temp2=df_healthy['gvkey'][df_healthy['fyear']==2018].unique()\n",
    "df_temp3=df_healthy['gvkey'][df_healthy['fyear']==2017].unique()"
   ]
  },
  {
   "cell_type": "code",
   "execution_count": 18,
   "metadata": {},
   "outputs": [],
   "source": [
    "id1=np.in1d(df_temp1,df_temp2,assume_unique=True)\n",
    "id2=np.in1d(id1,df_temp3,assume_unique=True)"
   ]
  },
  {
   "cell_type": "code",
   "execution_count": 19,
   "metadata": {},
   "outputs": [
    {
     "data": {
      "text/plain": [
       "9906"
      ]
     },
     "execution_count": 19,
     "metadata": {},
     "output_type": "execute_result"
    }
   ],
   "source": [
    "len(id2)"
   ]
  },
  {
   "cell_type": "code",
   "execution_count": 20,
   "metadata": {},
   "outputs": [],
   "source": [
    "bankruptcy_code=df_bankruptcy['gvkey'].unique()"
   ]
  },
  {
   "cell_type": "code",
   "execution_count": 21,
   "metadata": {},
   "outputs": [],
   "source": [
    "all_company_code=df_bankruptcy['gvkey'].append(df_healthy['gvkey']).unique()"
   ]
  },
  {
   "cell_type": "code",
   "execution_count": 22,
   "metadata": {},
   "outputs": [
    {
     "data": {
      "text/plain": [
       "953"
      ]
     },
     "execution_count": 22,
     "metadata": {},
     "output_type": "execute_result"
    }
   ],
   "source": [
    "# company that has bankruptcy\n",
    "len(bankruptcy_code)"
   ]
  },
  {
   "cell_type": "code",
   "execution_count": 23,
   "metadata": {},
   "outputs": [
    {
     "data": {
      "text/plain": [
       "13336"
      ]
     },
     "execution_count": 23,
     "metadata": {},
     "output_type": "execute_result"
    }
   ],
   "source": [
    "#Total company number\n",
    "len(all_company_code)"
   ]
  },
  {
   "cell_type": "code",
   "execution_count": 24,
   "metadata": {},
   "outputs": [
    {
     "data": {
      "text/plain": [
       "0.9285392921415717"
      ]
     },
     "execution_count": 24,
     "metadata": {},
     "output_type": "execute_result"
    }
   ],
   "source": [
    "#Accuracy\n",
    "1-len(bankruptcy_code)/len(all_company_code)"
   ]
  },
  {
   "cell_type": "markdown",
   "metadata": {},
   "source": [
    "### Question 1: How many healthy companies should I included in this model?\n",
    "### Question 2: How to draw the ROC curve for this plain model?"
   ]
  },
  {
   "cell_type": "markdown",
   "metadata": {},
   "source": [
    "## Draw ROC Curve"
   ]
  },
  {
   "cell_type": "code",
   "execution_count": 55,
   "metadata": {},
   "outputs": [],
   "source": [
    "y_score=np.ones(len(all_company_code))\n",
    "for i in range(len(y_score)):\n",
    "    if np.random.rand()>0.9724343399282657:\n",
    "        y_score[i]=0\n",
    "y_true=np.ones(len(all_company_code))\n",
    "for i in range(len(y_true)):\n",
    "    if all_company_code[i] in bankruptcy_code:\n",
    "        y_true[i]=0"
   ]
  },
  {
   "cell_type": "code",
   "execution_count": 56,
   "metadata": {},
   "outputs": [],
   "source": [
    "fpr, tpr, thresholds = metrics.roc_curve(y_true, y_score, pos_label=1)"
   ]
  },
  {
   "cell_type": "code",
   "execution_count": 57,
   "metadata": {},
   "outputs": [
    {
     "data": {
      "text/plain": [
       "Text(0, 0.5, 'tpr')"
      ]
     },
     "execution_count": 57,
     "metadata": {},
     "output_type": "execute_result"
    },
    {
     "data": {
      "image/png": "[encoded data removed]",
      "text/plain": [
       "<Figure size 432x288 with 1 Axes>"
      ]
     },
     "metadata": {
      "needs_background": "light"
     },
     "output_type": "display_data"
    }
   ],
   "source": [
    "plt.plot(fpr,tpr)\n",
    "plt.title('Baseline Model ROC Curve')\n",
    "plt.xlabel('fpr')\n",
    "plt.ylabel('tpr')"
   ]
  },
  {
   "cell_type": "code",
   "execution_count": 58,
   "metadata": {},
   "outputs": [
    {
     "data": {
      "text/plain": [
       "0.4996188384329091"
      ]
     },
     "execution_count": 58,
     "metadata": {},
     "output_type": "execute_result"
    }
   ],
   "source": [
    "roc_auc_score(y_true, y_score)"
   ]
  },
  {
   "cell_type": "markdown",
   "metadata": {},
   "source": [
    "### Note: The baseline model's accuracy is high, but should I really include so much true data? The auc curve cannot be draw. So how to evaluate it?"
   ]
  },
  {
   "cell_type": "code",
   "execution_count": null,
   "metadata": {},
   "outputs": [],
   "source": []
  }
 ],
 "metadata": {
  "kernelspec": {
   "display_name": "Python 3",
   "language": "python",
   "name": "python3"
  },
  "language_info": {
   "codemirror_mode": {
    "name": "ipython",
    "version": 3
   },
   "file_extension": ".py",
   "mimetype": "text/x-python",
   "name": "python",
   "nbconvert_exporter": "python",
   "pygments_lexer": "ipython3",
   "version": "3.7.3"
  }
 },
 "nbformat": 4,
 "nbformat_minor": 2
}
