{
 "cells": [
  {
   "cell_type": "code",
   "execution_count": 1,
   "metadata": {},
   "outputs": [],
   "source": [
    "%run Data_Preprocessing.ipynb"
   ]
  },
  {
   "cell_type": "code",
   "execution_count": 2,
   "metadata": {},
   "outputs": [],
   "source": [
    "from sklearn import neighbors, linear_model\n",
    "\n",
    "df_new=sample_data()\n",
    "trX,teX,trY,teY=make_test_train(df_new)\n"
   ]
  },
  {
   "cell_type": "code",
   "execution_count": 3,
   "metadata": {},
   "outputs": [
    {
     "data": {
      "text/html": [
       "<div>\n",
       "<style scoped>\n",
       "    .dataframe tbody tr th:only-of-type {\n",
       "        vertical-align: middle;\n",
       "    }\n",
       "\n",
       "    .dataframe tbody tr th {\n",
       "        vertical-align: top;\n",
       "    }\n",
       "\n",
       "    .dataframe thead th {\n",
       "        text-align: right;\n",
       "    }\n",
       "</style>\n",
       "<table border=\"1\" class=\"dataframe\">\n",
       "  <thead>\n",
       "    <tr style=\"text-align: right;\">\n",
       "      <th></th>\n",
       "      <th>csho</th>\n",
       "      <th>prcc_f</th>\n",
       "      <th>revt</th>\n",
       "      <th>at</th>\n",
       "      <th>epsfi</th>\n",
       "      <th>oancf</th>\n",
       "      <th>dt</th>\n",
       "      <th>ebit</th>\n",
       "    </tr>\n",
       "  </thead>\n",
       "  <tbody>\n",
       "    <tr>\n",
       "      <th>csho</th>\n",
       "      <td>1.000000</td>\n",
       "      <td>0.083387</td>\n",
       "      <td>0.432625</td>\n",
       "      <td>0.542739</td>\n",
       "      <td>0.035525</td>\n",
       "      <td>0.597667</td>\n",
       "      <td>0.546058</td>\n",
       "      <td>0.594771</td>\n",
       "    </tr>\n",
       "    <tr>\n",
       "      <th>prcc_f</th>\n",
       "      <td>0.083387</td>\n",
       "      <td>1.000000</td>\n",
       "      <td>0.214995</td>\n",
       "      <td>0.181526</td>\n",
       "      <td>0.214517</td>\n",
       "      <td>0.232845</td>\n",
       "      <td>0.104244</td>\n",
       "      <td>0.295183</td>\n",
       "    </tr>\n",
       "    <tr>\n",
       "      <th>revt</th>\n",
       "      <td>0.432625</td>\n",
       "      <td>0.214995</td>\n",
       "      <td>1.000000</td>\n",
       "      <td>0.543915</td>\n",
       "      <td>0.039919</td>\n",
       "      <td>0.789536</td>\n",
       "      <td>0.537590</td>\n",
       "      <td>0.684000</td>\n",
       "    </tr>\n",
       "    <tr>\n",
       "      <th>at</th>\n",
       "      <td>0.542739</td>\n",
       "      <td>0.181526</td>\n",
       "      <td>0.543915</td>\n",
       "      <td>1.000000</td>\n",
       "      <td>0.041969</td>\n",
       "      <td>0.594001</td>\n",
       "      <td>0.821263</td>\n",
       "      <td>0.697861</td>\n",
       "    </tr>\n",
       "    <tr>\n",
       "      <th>epsfi</th>\n",
       "      <td>0.035525</td>\n",
       "      <td>0.214517</td>\n",
       "      <td>0.039919</td>\n",
       "      <td>0.041969</td>\n",
       "      <td>1.000000</td>\n",
       "      <td>0.066774</td>\n",
       "      <td>0.027167</td>\n",
       "      <td>0.132435</td>\n",
       "    </tr>\n",
       "    <tr>\n",
       "      <th>oancf</th>\n",
       "      <td>0.597667</td>\n",
       "      <td>0.232845</td>\n",
       "      <td>0.789536</td>\n",
       "      <td>0.594001</td>\n",
       "      <td>0.066774</td>\n",
       "      <td>1.000000</td>\n",
       "      <td>0.569199</td>\n",
       "      <td>0.790365</td>\n",
       "    </tr>\n",
       "    <tr>\n",
       "      <th>dt</th>\n",
       "      <td>0.546058</td>\n",
       "      <td>0.104244</td>\n",
       "      <td>0.537590</td>\n",
       "      <td>0.821263</td>\n",
       "      <td>0.027167</td>\n",
       "      <td>0.569199</td>\n",
       "      <td>1.000000</td>\n",
       "      <td>0.768190</td>\n",
       "    </tr>\n",
       "    <tr>\n",
       "      <th>ebit</th>\n",
       "      <td>0.594771</td>\n",
       "      <td>0.295183</td>\n",
       "      <td>0.684000</td>\n",
       "      <td>0.697861</td>\n",
       "      <td>0.132435</td>\n",
       "      <td>0.790365</td>\n",
       "      <td>0.768190</td>\n",
       "      <td>1.000000</td>\n",
       "    </tr>\n",
       "  </tbody>\n",
       "</table>\n",
       "</div>"
      ],
      "text/plain": [
       "            csho    prcc_f      revt        at     epsfi     oancf        dt  \\\n",
       "csho    1.000000  0.083387  0.432625  0.542739  0.035525  0.597667  0.546058   \n",
       "prcc_f  0.083387  1.000000  0.214995  0.181526  0.214517  0.232845  0.104244   \n",
       "revt    0.432625  0.214995  1.000000  0.543915  0.039919  0.789536  0.537590   \n",
       "at      0.542739  0.181526  0.543915  1.000000  0.041969  0.594001  0.821263   \n",
       "epsfi   0.035525  0.214517  0.039919  0.041969  1.000000  0.066774  0.027167   \n",
       "oancf   0.597667  0.232845  0.789536  0.594001  0.066774  1.000000  0.569199   \n",
       "dt      0.546058  0.104244  0.537590  0.821263  0.027167  0.569199  1.000000   \n",
       "ebit    0.594771  0.295183  0.684000  0.697861  0.132435  0.790365  0.768190   \n",
       "\n",
       "            ebit  \n",
       "csho    0.594771  \n",
       "prcc_f  0.295183  \n",
       "revt    0.684000  \n",
       "at      0.697861  \n",
       "epsfi   0.132435  \n",
       "oancf   0.790365  \n",
       "dt      0.768190  \n",
       "ebit    1.000000  "
      ]
     },
     "execution_count": 3,
     "metadata": {},
     "output_type": "execute_result"
    }
   ],
   "source": [
    "#look at correlations\n",
    "df_new[columns_selected].corr()"
   ]
  },
  {
   "cell_type": "markdown",
   "metadata": {},
   "source": [
    "## Logistic Regression with sklearn"
   ]
  },
  {
   "cell_type": "code",
   "execution_count": 5,
   "metadata": {},
   "outputs": [
    {
     "data": {
      "image/png": "[encoded data removed]",
      "text/plain": [
       "<Figure size 432x288 with 1 Axes>"
      ]
     },
     "metadata": {
      "needs_background": "light"
     },
     "output_type": "display_data"
    },
    {
     "name": "stdout",
     "output_type": "stream",
     "text": [
      "Accuracy score 0.773134\n",
      "AUC score 0.876815\n",
      "ks statistic 0.658264\n"
     ]
    }
   ],
   "source": [
    "logistic=linear_model.LogisticRegression(penalty='l1',tol=0.0001,C=1000,random_state=random_state).fit(trX,trY)\n",
    "auc_score,accuracy_score,ks=calc_metrics(logistic,teX,teY)\n",
    "\n",
    "print('Accuracy score %f' % accuracy_score)\n",
    "print('AUC score %f' % auc_score)\n",
    "print('ks statistic %f' % ks)"
   ]
  },
  {
   "cell_type": "code",
   "execution_count": 6,
   "metadata": {},
   "outputs": [
    {
     "data": {
      "text/plain": [
       "0.7731343283582089"
      ]
     },
     "execution_count": 6,
     "metadata": {},
     "output_type": "execute_result"
    }
   ],
   "source": [
    "#sklearn accuracy\n",
    "logistic.score(teX,teY)"
   ]
  },
  {
   "cell_type": "code",
   "execution_count": 7,
   "metadata": {},
   "outputs": [
    {
     "data": {
      "text/plain": [
       "0.7897435897435897"
      ]
     },
     "execution_count": 7,
     "metadata": {},
     "output_type": "execute_result"
    }
   ],
   "source": [
    "logistic.score(trX,trY)"
   ]
  },
  {
   "cell_type": "code",
   "execution_count": null,
   "metadata": {},
   "outputs": [],
   "source": []
  }
 ],
 "metadata": {
  "kernelspec": {
   "display_name": "Python 3",
   "language": "python",
   "name": "python3"
  },
  "language_info": {
   "codemirror_mode": {
    "name": "ipython",
    "version": 3
   },
   "file_extension": ".py",
   "mimetype": "text/x-python",
   "name": "python",
   "nbconvert_exporter": "python",
   "pygments_lexer": "ipython3",
   "version": "3.7.3"
  }
 },
 "nbformat": 4,
 "nbformat_minor": 2
}
